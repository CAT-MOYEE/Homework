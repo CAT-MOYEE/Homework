{
  "nbformat": 4,
  "nbformat_minor": 0,
  "metadata": {
    "colab": {
      "provenance": [],
      "authorship_tag": "ABX9TyMtcM5SXZff3OQc+JYnlELA",
      "include_colab_link": true
    },
    "kernelspec": {
      "name": "python3",
      "display_name": "Python 3"
    },
    "language_info": {
      "name": "python"
    }
  },
  "cells": [
    {
      "cell_type": "markdown",
      "metadata": {
        "id": "view-in-github",
        "colab_type": "text"
      },
      "source": [
        "<a href=\"https://colab.research.google.com/github/CAT-MOYEE/Homework/blob/main/Python_class.ipynb\" target=\"_parent\"><img src=\"https://colab.research.google.com/assets/colab-badge.svg\" alt=\"Open In Colab\"/></a>"
      ]
    },
    {
      "cell_type": "markdown",
      "source": [
        "# week 1"
      ],
      "metadata": {
        "id": "us7xof1ccE1x"
      }
    },
    {
      "cell_type": "code",
      "source": [
        "#output\n",
        "print(\"helow world!\")\n",
        "\n",
        "#output line\n",
        "print(\"try to out put more information\")\n",
        "\n",
        "#jump a line\n",
        "print(\"try to jump a line\")\n",
        "print()                 #jump\n",
        "print(\"finish a line\")\n",
        "\n",
        "#Multiple Lines with One Function\n",
        "print(\"some message\\nnext line\")\n",
        "\n",
        "#Economical Printing – Using Triple Quotes\n",
        "print('''first line\n",
        "next line\n",
        "final line''')\n",
        "\n",
        "\n",
        "\n"
      ],
      "metadata": {
        "id": "vX-s1aFcaHdX"
      },
      "execution_count": null,
      "outputs": []
    },
    {
      "cell_type": "markdown",
      "source": [
        "# week2"
      ],
      "metadata": {
        "id": "xRYoRss1cDkg"
      }
    },
    {
      "cell_type": "code",
      "source": [
        "#collecting user input\n",
        "AString = input(\"prompts the user for input information\")\n",
        "#display AString\n",
        "print(AString)\n",
        "#try to use answer\n",
        "print(\"before answer\"+ AString + \"after answer\")\n",
        "\n",
        "\n",
        "\n",
        "# TODO: Modify the summary to print each preference on a separate line with a star.\n",
        "# For example, the output could look like:\n",
        "# * Name: John\n",
        "# * Favourite Colour: Blue\n",
        "# * Favourite Food: Pizza\n",
        "# * Favourite Movie: Inception\n",
        "\n",
        "#get data\n",
        "name = input(\"What is your name? \")\n",
        "colour = input(\"What is your favourite colour? \")\n",
        "food = input(\"What is your favourite food? \")\n",
        "movie = input(\"What is your favourite movie? \")\n",
        "\n",
        "#print output\n",
        "print(\"* Name: \" + name)\n",
        "print(\"* Favourite Colour: \" + colour)\n",
        "print(\"* Favourite Food: \" + food)\n",
        "print(\"* Favourite Movie: \" + movie)\n",
        "\n",
        "\n",
        "\n"
      ],
      "metadata": {
        "id": "MxmtxyWecKz6"
      },
      "execution_count": null,
      "outputs": []
    },
    {
      "cell_type": "markdown",
      "source": [
        "#WEEK3"
      ],
      "metadata": {
        "id": "IOyL3xrBkx0_"
      }
    },
    {
      "cell_type": "code",
      "source": [
        "# Displaying the weather menu options\n",
        "print(\"Weather Menu:\")\n",
        "print(\"1. Check Temperature\")\n",
        "print(\"2. Check Humidity\")\n",
        "print(\"3. Check Wind Speed\")\n",
        "print(\"4. Exit\")\n",
        "# Prompting the user to enter their choice\n",
        "choice = input(\"Enter your choice (1-4): \")\n",
        "print(\"You selected option:\", choice)\n",
        "\n",
        "# Example of a simple decision structure based on the user's choice\n",
        "if choice == \"1\":\n",
        "    print(\"You chose to check the temperature.\")\n",
        "elif choice == \"2\":\n",
        "    print(\"You chose to check the humidity.\")\n",
        "elif choice == \"3\":\n",
        "    print(\"You chose to check the wind speed.\")\n",
        "elif choice == \"4\":\n",
        "    print(\"Exiting the program.\")\n",
        "else:\n",
        "    print(\"Invalid choice. Please select a valid option.\")\n",
        "\n",
        "\n",
        "# For the purpose of this activity, we simulate a user choice.\n",
        "# In a complete program, you might capture this using input() from a menu.\n",
        "\n",
        "print(\"User selected option:\", choice)\n",
        "if choice == \"1\":\n",
        "    temp_input = input(\"Enter the current temperature (in °C): \")\n",
        "    # Check if the input is numeric:\n",
        "    # For negative numbers, check if the string starts with '-' and the rest is numeric.\n",
        "    if temp_input.isdigit() or (temp_input.startswith('-') and temp_input[1:].isdigit()):\n",
        "        temperature = int(temp_input)\n",
        "        if temperature < 5:\n",
        "            print(\"It's freezing – bundle up!\")\n",
        "        elif temperature < 15:\n",
        "            print(\"It's cold – wear a jacket!\")\n",
        "        elif temperature < 25:\n",
        "            print(\"It's warm – enjoy the day!\")\n",
        "        else:\n",
        "            print(\"It's hot – stay cool!\")\n",
        "    else:\n",
        "        print(\"Invalid input. Please enter a numeric temperature.\")\n"
      ],
      "metadata": {
        "id": "MZQyzQQgk4WY"
      },
      "execution_count": null,
      "outputs": []
    },
    {
      "cell_type": "markdown",
      "source": [
        "#WEEK4"
      ],
      "metadata": {
        "id": "pnrsLf7YnMJw"
      }
    },
    {
      "cell_type": "code",
      "source": [
        "\n",
        "\n",
        "# Define the calculator functions\n",
        "def add(a, b):\n",
        "    return a + b\n",
        "\n",
        "def subtract(a, b):\n",
        "    return a - b\n",
        "\n",
        "def multiply(a, b):\n",
        "    return a * b\n",
        "\n",
        "def divide(a, b):\n",
        "    if b == 0:\n",
        "        return \"Error: Cannot divide by zero.\"\n",
        "    else:\n",
        "        return a / b\n",
        "\n",
        "# Function to display the menu and get the user's choice\n",
        "def get_operation():\n",
        "    print(\"Simple Calculator Menu\")\n",
        "    print(\"1. Add\")\n",
        "    print(\"2. Subtract\")\n",
        "    print(\"3. Multiply\")\n",
        "    print(\"4. Divide\")\n",
        "    choice = input(\"Enter your choice (1-4): \")\n",
        "    return choice\n",
        "\n",
        "# Function to get a floating-point number from the user\n",
        "def get_number(prompt):\n",
        "    return float(input(prompt))\n",
        "\n",
        "# Function to perform the calculation based on the operation\n",
        "def perform_calculation(operation, num1, num2):\n",
        "    if operation == \"1\":\n",
        "        return add(num1, num2)\n",
        "    elif operation == \"2\":\n",
        "        return subtract(num1, num2)\n",
        "    elif operation == \"3\":\n",
        "        return multiply(num1, num2)\n",
        "    elif operation == \"4\":\n",
        "        return divide(num1, num2)\n",
        "    else:\n",
        "        return \"Invalid choice.\"\n",
        "\n",
        "# Main script\n",
        "operation = get_operation()\n",
        "num1 = get_number(\"Enter the first number: \")\n",
        "num2 = get_number(\"Enter the second number: \")\n",
        "result = perform_calculation(operation, num1, num2)\n",
        "print(\"Result:\", result)\n",
        "\n"
      ],
      "metadata": {
        "id": "6HvFEn_CnOli"
      },
      "execution_count": null,
      "outputs": []
    },
    {
      "cell_type": "code",
      "source": [
        "!pip install pyinputplus\n",
        "\n",
        "\n",
        "\n",
        "#try to import something\n",
        "import pyinputplus as pyip\n",
        "\n",
        "#It can make sure user input number\n",
        "number = pyip.inputNum(\"Enter a number: \")\n",
        "print(\"You entered:\", number)\n",
        "\n",
        "\n",
        "#check float input\n",
        "pyip.inputFloat()\n"
      ],
      "metadata": {
        "colab": {
          "base_uri": "https://localhost:8080/"
        },
        "id": "6-zwUKUPpVtv",
        "outputId": "cd2432b5-cc24-4f53-a0c6-cf8b4eafc5c4"
      },
      "execution_count": 26,
      "outputs": [
        {
          "name": "stdout",
          "output_type": "stream",
          "text": [
            "Requirement already satisfied: pyinputplus in /usr/local/lib/python3.11/dist-packages (0.2.12)\n",
            "Requirement already satisfied: pysimplevalidate>=0.2.7 in /usr/local/lib/python3.11/dist-packages (from pyinputplus) (0.2.12)\n",
            "Requirement already satisfied: stdiomask>=0.0.3 in /usr/local/lib/python3.11/dist-packages (from pyinputplus) (0.0.6)\n",
            "Enter a number: 1\n",
            "You entered: 1\n",
            "1\n"
          ]
        },
        {
          "output_type": "execute_result",
          "data": {
            "text/plain": [
              "1.0"
            ]
          },
          "metadata": {},
          "execution_count": 26
        }
      ]
    },
    {
      "cell_type": "code",
      "source": [
        "#Temperature\n",
        "def f_tem_to_c_tem(f):\n",
        "    return (f - 32) * 5/9\n",
        "\n",
        "\n",
        "\n",
        "\n",
        "\n",
        "#Wind Chill Calculation\n",
        "def wind_chill_calculation(F,speed):\n",
        "    return 35.74 + 0.6215 * F - 35.75 * speed**0.16 + 0.4275 * F * speed**0.16\n",
        "\n",
        "\n",
        "\n",
        "\n",
        "wind_chill_calculation(30,10)\n",
        "\n",
        "\n",
        "\n",
        "\n",
        "\n",
        "\n",
        "\n",
        "\n",
        "\n"
      ],
      "metadata": {
        "colab": {
          "base_uri": "https://localhost:8080/"
        },
        "id": "W6DzXVoxu5he",
        "outputId": "8b407bff-69ac-4561-d0e1-513d572e2fd7"
      },
      "execution_count": 35,
      "outputs": [
        {
          "output_type": "execute_result",
          "data": {
            "text/plain": [
              "21.248293255649617"
            ]
          },
          "metadata": {},
          "execution_count": 35
        }
      ]
    }
  ]
}